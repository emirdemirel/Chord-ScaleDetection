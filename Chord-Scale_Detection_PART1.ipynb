{
 "cells": [
  {
   "cell_type": "markdown",
   "metadata": {},
   "source": [
    " # AUTOMATIC CHORD-SCALE DETECTION & STUDENT PERFORMANCE ASSESMENT FOR JAZZ IMPROVISATION\n",
    " \n",
    " ## PART 1: DOWNLOAD DATASET & FEATURE EXTRACTION"
   ]
  },
  {
   "cell_type": "code",
   "execution_count": 2,
   "metadata": {},
   "outputs": [],
   "source": [
    "import sys,os\n",
    "sys.path.append(os.path.join(os.path.dirname('__file__'), 'freesound-python/'))\n",
    "\n",
    "import numpy as np\n",
    "\n",
    "import freesound\n",
    "client = freesound.FreesoundClient()\n",
    "client.set_token(\"1Dio5sf5Kq7uxPPi4WSQljr4EncEzRjuVdlMV8z8\",\"token\")\n",
    "\n",
    "from IPython.display import Audio\n",
    "from IPython.core.display import display, HTML, Image\n",
    "\n",
    "from utilities import *\n",
    "\n",
    "\n",
    "#CHORD-SCALE DATASET on freesound.org\n",
    "freesound_PACK_ID = 24075\n",
    "\n",
    "DOWNLOADSOUNDS = False ### SET 'True' FOR DOWNLOADING THE SOUNDS FROM FREESOUND, SET 'False' IF SOUNDS ALREADY EXIST\n",
    "\n",
    "#Directory for audio files\n",
    "audioDir = 'audio/'\n",
    "#Directory for audio segment annotations\n",
    "annotationsDir = 'scale_annotations/'\n",
    "#Directory for Feature Data (.csv and pickle files)\n",
    "dataDir = 'data/'\n",
    "\n",
    "#ANALYSIS PARAMETERS FOR FEATURE EXTRACTION\n",
    "\n",
    "params=AnalysisParams(200,100,'hann',2048,44100,12)\n",
    "\n",
    "#INITIATE PROPER DATA STRUCTURE\n",
    "dataDictionary = createDataStructure(annotationsDir) "
   ]
  },
  {
   "cell_type": "markdown",
   "metadata": {},
   "source": [
    "### DOWNLOAD THE 'CHORD-SCALE PACK (OR dataset)' FROM FREESOUND"
   ]
  },
  {
   "cell_type": "code",
   "execution_count": 3,
   "metadata": {},
   "outputs": [
    {
     "name": "stdout",
     "output_type": "stream",
     "text": [
      "Pack name: Chord-Scale Dataset\n",
      "Number of sounds : 41\n",
      "Total duration of the dataset :  43.9691983333 min\n"
     ]
    }
   ],
   "source": [
    "if os.path.exists(audioDir) != 1:\n",
    "    os.mkdir(audioDir)\n",
    "\n",
    "pack = client.get_pack(freesound_PACK_ID)\n",
    "print(\"Pack name:\", pack.name)\n",
    "\n",
    "results_pager = pack.get_sounds(page_size=50,fields=\"id,name,username,duration,previews\")\n",
    " \n",
    "scaleTypes = []    \n",
    "TotalDuration = []\n",
    "for sound in results_pager:\n",
    "    \n",
    "    SOUND_NAME = sound.name.split('.')[0]\n",
    "    TotalDuration.append(sound.duration)\n",
    "    if DOWNLOADSOUNDS:\n",
    "        sound.retrieve_preview(audioDir,SOUND_NAME+\".mp3\")   \n",
    "    \n",
    "    ## dataDict[sound.name][0] has the 'duration' & 'freesoundid' information\n",
    "    dataDictionary[SOUND_NAME][0]['duration']= sound.duration\n",
    "    dataDictionary[SOUND_NAME][0]['freesoundid'] = sound.id\n",
    "\n",
    "print(\"Number of sounds :\", results_pager.count)   \n",
    "print(\"Total duration of the dataset : \" , np.sum(TotalDuration)/60.0, 'min')"
   ]
  },
  {
   "cell_type": "markdown",
   "metadata": {},
   "source": [
    "### DISPLAY DATA"
   ]
  },
  {
   "cell_type": "code",
   "execution_count": 4,
   "metadata": {},
   "outputs": [
    {
     "data": {
      "text/html": [
       "<h3 style='color:#bb;'>1) mixolydian</h3><h4>Example sound:</h4><br><iframe frameborder=\"0\" scrolling=\"no\" src=\"http://www.freesound.org/embed/sound/iframe/424884/simple/medium/\" width=\"481\" height=\"86\"></iframe><iframe frameborder=\"0\" scrolling=\"no\" src=\"http://www.freesound.org/embed/sound/iframe/424906/simple/medium/\" width=\"481\" height=\"86\"></iframe><iframe frameborder=\"0\" scrolling=\"no\" src=\"http://www.freesound.org/embed/sound/iframe/424886/simple/medium/\" width=\"481\" height=\"86\"></iframe><br><br>"
      ],
      "text/plain": [
       "<IPython.core.display.HTML object>"
      ]
     },
     "metadata": {},
     "output_type": "display_data"
    }
   ],
   "source": [
    "scaleType = 'mixolydian'\n",
    "\n",
    "SoundsList = []\n",
    "freesoundids = []\n",
    "for sound in dataDictionary.items():\n",
    "    if scaleType in sound[0].split('_')[1]:\n",
    "        SoundsList.append(sound)\n",
    "        freesoundids.append(sound[1][0]['freesoundid'])\n",
    "        \n",
    "html = \"<h3 style='color:#bb;'>%i) %s</h3>\" % (1,scaleType)\n",
    "html += \"<h4>Example sound:</h4><br>\"\n",
    "html += generate_html_with_sound_examples(freesoundids)\n",
    "html += \"<br><br>\"\n",
    "display(HTML(html))"
   ]
  },
  {
   "cell_type": "markdown",
   "metadata": {},
   "source": [
    "### FEATURE EXTRACTION\n",
    "\n",
    "#### 1) HARMONIC PITCH CLASS PROFILES (HPCP) (Gomez, 2006)"
   ]
  },
  {
   "cell_type": "code",
   "execution_count": 5,
   "metadata": {},
   "outputs": [
    {
     "name": "stdout",
     "output_type": "stream",
     "text": [
      "HPCP (Chroma) Features extracted and saved in a file\n"
     ]
    }
   ],
   "source": [
    "'''\n",
    "DEFINE PARAMETERS FOR FEATURE EXTRACTION\n",
    "\n",
    "    - AnalysisParams:\n",
    "        windowSize = 200ms\n",
    "        hopSize = 100ms\n",
    "        windowFunction = 'hanning'\n",
    "        fftN (fftSize) = 2048\n",
    "        fs (sampleRate) = 44100\n",
    "        numBins (HPCP Resolution) = 12 bins/octave\n",
    "        \n",
    "'''\n",
    "if os.path.exists(dataDir) != 1:\n",
    "    os.mkdir(dataDir)       \n",
    "\n",
    "#### FEATURE EXTRACTION ####\n",
    "\n",
    "for fileName,parts in dataDictionary.items():\n",
    "    #print(fileName)\n",
    "    for part in parts:\n",
    "        computeHPCP_FRAMEBASED(part,params)\n",
    "        computeHPCP_GLOBAL(part) \n",
    "        \n",
    "#Saving all results in a pickle file\n",
    "pickleProtocol=1#choosen for backward compatibility\n",
    "with open(os.path.join('data','HPCPFeaturesExtracted_ChordScaleDataset.pkl') , 'wb') as f:\n",
    "    pickle.dump(dataDictionary, f, pickleProtocol)\n",
    "\n",
    "#Let's clear data and re-read it\n",
    "print('HPCP (Chroma) Features extracted and saved in a file')                "
   ]
  },
  {
   "cell_type": "markdown",
   "metadata": {},
   "source": [
    "#### 2) NON-NEGATIVE LEAST SQUARED (NNLS) CHROMAS (Mauch, 2011)"
   ]
  },
  {
   "cell_type": "code",
   "execution_count": null,
   "metadata": {},
   "outputs": [],
   "source": []
  }
 ],
 "metadata": {
  "kernelspec": {
   "display_name": "Python 3",
   "language": "python",
   "name": "python3"
  },
  "language_info": {
   "codemirror_mode": {
    "name": "ipython",
    "version": 3
   },
   "file_extension": ".py",
   "mimetype": "text/x-python",
   "name": "python",
   "nbconvert_exporter": "python",
   "pygments_lexer": "ipython3",
   "version": "3.5.2"
  }
 },
 "nbformat": 4,
 "nbformat_minor": 2
}
