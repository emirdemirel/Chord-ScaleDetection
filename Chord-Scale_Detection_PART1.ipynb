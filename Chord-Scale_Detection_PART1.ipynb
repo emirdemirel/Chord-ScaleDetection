{
 "cells": [
  {
   "cell_type": "markdown",
   "metadata": {},
   "source": [
    " # AUTOMATIC CHORD-SCALE DETECTION & STUDENT PERFORMANCE ASSESMENT FOR JAZZ IMPROVISATION\n",
    " \n",
    " ## PART 1 : ANALYSIS ON CHORD-SCALE DATASET"
   ]
  },
  {
   "cell_type": "code",
   "execution_count": 6,
   "metadata": {},
   "outputs": [],
   "source": [
    "import sys,os\n",
    "sys.path.append(os.path.join(os.path.dirname('__file__'), 'freesound-python/'))\n",
    "\n",
    "import freesound\n",
    "client = freesound.FreesoundClient()\n",
    "client.set_token(\"1Dio5sf5Kq7uxPPi4WSQljr4EncEzRjuVdlMV8z8\",\"token\")\n",
    "\n",
    "from IPython.display import Audio\n",
    "from IPython.core.display import display, HTML, Image\n",
    "\n",
    "from utilities import *\n",
    "\n",
    "\n",
    "#CHORD-SCALE DATASET on freesound.org\n",
    "freesound_PACK_ID = 24075\n",
    "\n",
    "#Directory for audio files\n",
    "audioDir = 'audio/'\n",
    "#Directory for audio segment annotations\n",
    "annotationsDir = 'scale_annotations/'\n",
    "#Directory for Feature Data (.csv and pickle files)\n",
    "dataDir = 'data/'\n",
    "\n",
    "#ANALYSIS PARAMETERS FOR FEATURE EXTRACTION\n",
    "\n",
    "params=AnalysisParams(200,100,'hann',2048,44100,12)\n",
    "\n",
    "#INITIATE PROPER DATA STRUCTURE\n",
    "dataDictionary = createDataStructure(annotationsDir) "
   ]
  },
  {
   "cell_type": "markdown",
   "metadata": {},
   "source": [
    "### DOWNLOAD THE 'CHORD-SCALE PACK (OR dataset)' FROM FREESOUND"
   ]
  },
  {
   "cell_type": "code",
   "execution_count": 2,
   "metadata": {},
   "outputs": [
    {
     "name": "stdout",
     "output_type": "stream",
     "text": [
      "Pack name: Chord-Scale Dataset\n",
      "Number of sounds : 37\n",
      "Total duration of the dataset :  40.0042583333 min\n"
     ]
    }
   ],
   "source": [
    "if os.path.exists(audioDir) != 1:\n",
    "    os.mkdir(audioDir)\n",
    "\n",
    "pack = client.get_pack(freesound_PACK_ID)\n",
    "print(\"Pack name:\", pack.name)\n",
    "\n",
    "results_pager = pack.get_sounds(page_size=50,fields=\"id,name,username,duration,previews\")\n",
    " \n",
    "scaleTypes = []    \n",
    "TotalDuration = []\n",
    "for sound in results_pager:\n",
    "    \n",
    "    SOUND_NAME = sound.name\n",
    "    TotalDuration.append(sound.duration)      \n",
    "    sound.retrieve_preview(audioDir,SOUND_NAME+\".mp3\")   \n",
    "    \n",
    "    ## dataDict[sound.name][0] has the 'duration' & 'freesoundid' information\n",
    "    dataDictionary[SOUND_NAME][0]['duration']= sound.duration\n",
    "    dataDictionary[SOUND_NAME][0]['freesoundid'] = sound.id\n",
    "\n",
    "print(\"Number of sounds :\", results_pager.count)   \n",
    "print(\"Total duration of the dataset : \" , np.sum(TotalDuration)/60.0, 'min')"
   ]
  },
  {
   "cell_type": "markdown",
   "metadata": {},
   "source": [
    "### DISPLAY DATA"
   ]
  },
  {
   "cell_type": "code",
   "execution_count": 3,
   "metadata": {},
   "outputs": [
    {
     "data": {
      "text/html": [
       "<h3 style='color:#bb;'>1) phrygian</h3><h4>Example sound:</h4><br><iframe frameborder=\"0\" scrolling=\"no\" src=\"http://www.freesound.org/embed/sound/iframe/424889/simple/medium/\" width=\"481\" height=\"86\"></iframe><iframe frameborder=\"0\" scrolling=\"no\" src=\"http://www.freesound.org/embed/sound/iframe/424905/simple/medium/\" width=\"481\" height=\"86\"></iframe><iframe frameborder=\"0\" scrolling=\"no\" src=\"http://www.freesound.org/embed/sound/iframe/424890/simple/medium/\" width=\"481\" height=\"86\"></iframe><br><br>"
      ],
      "text/plain": [
       "<IPython.core.display.HTML object>"
      ]
     },
     "metadata": {},
     "output_type": "display_data"
    }
   ],
   "source": [
    "scaleType = 'phrygian'\n",
    "\n",
    "SoundsList = []\n",
    "freesoundids = []\n",
    "for sound in dataDictionary.items():\n",
    "    if scaleType in sound[0].split('_')[1] and 'aebersold' not in sound[0].split('_')[0]:\n",
    "        SoundsList.append(sound)\n",
    "        freesoundids.append(sound[1][0]['freesoundid'])\n",
    "        \n",
    "html = \"<h3 style='color:#bb;'>%i) %s</h3>\" % (1,scaleType)\n",
    "html += \"<h4>Example sound:</h4><br>\"\n",
    "html += generate_html_with_sound_examples(freesoundids)\n",
    "html += \"<br><br>\"\n",
    "display(HTML(html))"
   ]
  },
  {
   "cell_type": "markdown",
   "metadata": {},
   "source": [
    "### FEATURE EXTRACTION\n"
   ]
  },
  {
   "cell_type": "code",
   "execution_count": 10,
   "metadata": {},
   "outputs": [
    {
     "ename": "RuntimeError",
     "evalue": "Error while configuring MonoLoader: AudioLoader: Could not open file \"audio/hikmet_minor.mp3\", error = No such file or directory",
     "output_type": "error",
     "traceback": [
      "\u001b[0;31m---------------------------------------------------------------------------\u001b[0m",
      "\u001b[0;31mRuntimeError\u001b[0m                              Traceback (most recent call last)",
      "\u001b[0;32m<ipython-input-10-e4e3b174ab32>\u001b[0m in \u001b[0;36m<module>\u001b[0;34m()\u001b[0m\n\u001b[1;32m     19\u001b[0m     \u001b[0;31m#print(fileName)\u001b[0m\u001b[0;34m\u001b[0m\u001b[0;34m\u001b[0m\u001b[0m\n\u001b[1;32m     20\u001b[0m     \u001b[0;32mfor\u001b[0m \u001b[0mpart\u001b[0m \u001b[0;32min\u001b[0m \u001b[0mparts\u001b[0m\u001b[0;34m:\u001b[0m\u001b[0;34m\u001b[0m\u001b[0m\n\u001b[0;32m---> 21\u001b[0;31m         \u001b[0mcomputeHPCP_FRAMEBASED\u001b[0m\u001b[0;34m(\u001b[0m\u001b[0mpart\u001b[0m\u001b[0;34m,\u001b[0m\u001b[0mparams\u001b[0m\u001b[0;34m)\u001b[0m\u001b[0;34m\u001b[0m\u001b[0m\n\u001b[0m\u001b[1;32m     22\u001b[0m         \u001b[0mcomputeHPCP_GLOBAL\u001b[0m\u001b[0;34m(\u001b[0m\u001b[0mpart\u001b[0m\u001b[0;34m)\u001b[0m\u001b[0;34m\u001b[0m\u001b[0m\n\u001b[1;32m     23\u001b[0m \u001b[0;34m\u001b[0m\u001b[0m\n",
      "\u001b[0;32m~/notebooks/utilities.py\u001b[0m in \u001b[0;36mcomputeHPCP_FRAMEBASED\u001b[0;34m(fileData, params)\u001b[0m\n\u001b[1;32m    146\u001b[0m     \u001b[0;31m#Reading the wave file\u001b[0m\u001b[0;34m\u001b[0m\u001b[0;34m\u001b[0m\u001b[0m\n\u001b[1;32m    147\u001b[0m     \u001b[0mfs\u001b[0m\u001b[0;34m=\u001b[0m\u001b[0mparams\u001b[0m\u001b[0;34m.\u001b[0m\u001b[0mfs\u001b[0m\u001b[0;34m\u001b[0m\u001b[0m\n\u001b[0;32m--> 148\u001b[0;31m     \u001b[0mx\u001b[0m \u001b[0;34m=\u001b[0m \u001b[0mess\u001b[0m\u001b[0;34m.\u001b[0m\u001b[0mMonoLoader\u001b[0m\u001b[0;34m(\u001b[0m\u001b[0mfilename\u001b[0m \u001b[0;34m=\u001b[0m \u001b[0mos\u001b[0m\u001b[0;34m.\u001b[0m\u001b[0mpath\u001b[0m\u001b[0;34m.\u001b[0m\u001b[0mjoin\u001b[0m\u001b[0;34m(\u001b[0m\u001b[0;34m'audio/'\u001b[0m\u001b[0;34m,\u001b[0m \u001b[0mfileData\u001b[0m\u001b[0;34m[\u001b[0m\u001b[0;34m'name'\u001b[0m\u001b[0;34m]\u001b[0m\u001b[0;34m+\u001b[0m\u001b[0;34m'.mp3'\u001b[0m\u001b[0;34m)\u001b[0m\u001b[0;34m,\u001b[0m \u001b[0msampleRate\u001b[0m \u001b[0;34m=\u001b[0m \u001b[0mfs\u001b[0m\u001b[0;34m)\u001b[0m\u001b[0;34m(\u001b[0m\u001b[0;34m)\u001b[0m\u001b[0;34m\u001b[0m\u001b[0m\n\u001b[0m\u001b[1;32m    149\u001b[0m     \u001b[0;31m#x = ess.DCRemoval()(x) ##preprocessing / apply DC removal for noisy regions\u001b[0m\u001b[0;34m\u001b[0m\u001b[0;34m\u001b[0m\u001b[0m\n\u001b[1;32m    150\u001b[0m     \u001b[0mx\u001b[0m \u001b[0;34m=\u001b[0m \u001b[0mess\u001b[0m\u001b[0;34m.\u001b[0m\u001b[0mEqualLoudness\u001b[0m\u001b[0;34m(\u001b[0m\u001b[0;34m)\u001b[0m\u001b[0;34m(\u001b[0m\u001b[0mx\u001b[0m\u001b[0;34m)\u001b[0m\u001b[0;34m\u001b[0m\u001b[0m\n",
      "\u001b[0;32m/usr/local/lib/python3/dist-packages/essentia/standard.py\u001b[0m in \u001b[0;36m__init__\u001b[0;34m(self, **kwargs)\u001b[0m\n\u001b[1;32m     42\u001b[0m \u001b[0;34m\u001b[0m\u001b[0m\n\u001b[1;32m     43\u001b[0m             \u001b[0;31m# configure the algorithm\u001b[0m\u001b[0;34m\u001b[0m\u001b[0;34m\u001b[0m\u001b[0m\n\u001b[0;32m---> 44\u001b[0;31m             \u001b[0mself\u001b[0m\u001b[0;34m.\u001b[0m\u001b[0mconfigure\u001b[0m\u001b[0;34m(\u001b[0m\u001b[0;34m**\u001b[0m\u001b[0mkwargs\u001b[0m\u001b[0;34m)\u001b[0m\u001b[0;34m\u001b[0m\u001b[0m\n\u001b[0m\u001b[1;32m     45\u001b[0m \u001b[0;34m\u001b[0m\u001b[0m\n\u001b[1;32m     46\u001b[0m         \u001b[0;32mdef\u001b[0m \u001b[0mconfigure\u001b[0m\u001b[0;34m(\u001b[0m\u001b[0mself\u001b[0m\u001b[0;34m,\u001b[0m \u001b[0;34m**\u001b[0m\u001b[0mkwargs\u001b[0m\u001b[0;34m)\u001b[0m\u001b[0;34m:\u001b[0m\u001b[0;34m\u001b[0m\u001b[0m\n",
      "\u001b[0;32m/usr/local/lib/python3/dist-packages/essentia/standard.py\u001b[0m in \u001b[0;36mconfigure\u001b[0;34m(self, **kwargs)\u001b[0m\n\u001b[1;32m     62\u001b[0m                 \u001b[0mkwargs\u001b[0m\u001b[0;34m[\u001b[0m\u001b[0mname\u001b[0m\u001b[0;34m]\u001b[0m \u001b[0;34m=\u001b[0m \u001b[0mconvertedVal\u001b[0m\u001b[0;34m\u001b[0m\u001b[0m\n\u001b[1;32m     63\u001b[0m \u001b[0;34m\u001b[0m\u001b[0m\n\u001b[0;32m---> 64\u001b[0;31m             \u001b[0mself\u001b[0m\u001b[0;34m.\u001b[0m\u001b[0m__configure__\u001b[0m\u001b[0;34m(\u001b[0m\u001b[0;34m**\u001b[0m\u001b[0mkwargs\u001b[0m\u001b[0;34m)\u001b[0m\u001b[0;34m\u001b[0m\u001b[0m\n\u001b[0m\u001b[1;32m     65\u001b[0m \u001b[0;34m\u001b[0m\u001b[0m\n\u001b[1;32m     66\u001b[0m         \u001b[0;32mdef\u001b[0m \u001b[0mcompute\u001b[0m\u001b[0;34m(\u001b[0m\u001b[0mself\u001b[0m\u001b[0;34m,\u001b[0m \u001b[0;34m*\u001b[0m\u001b[0margs\u001b[0m\u001b[0;34m)\u001b[0m\u001b[0;34m:\u001b[0m\u001b[0;34m\u001b[0m\u001b[0m\n",
      "\u001b[0;31mRuntimeError\u001b[0m: Error while configuring MonoLoader: AudioLoader: Could not open file \"audio/hikmet_minor.mp3\", error = No such file or directory"
     ]
    }
   ],
   "source": [
    "'''\n",
    "DEFINE PARAMETERS FOR FEATURE EXTRACTION\n",
    "\n",
    "    - AnalysisParams:\n",
    "        windowSize = 200ms\n",
    "        hopSize = 100ms\n",
    "        windowFunction = 'hanning'\n",
    "        fftN (fftSize) = 2048\n",
    "        fs (sampleRate) = 44100\n",
    "        numBins (HPCP Resolution) = 12 bins/octave\n",
    "        \n",
    "'''\n",
    "if os.path.exists(dataDir) != 1:\n",
    "    os.mkdir(dataDir)       \n",
    "\n",
    "#### FEATURE EXTRACTION ####\n",
    "\n",
    "for fileName,parts in dataDictionary.items():\n",
    "    #print(fileName)\n",
    "    for part in parts:\n",
    "        computeHPCP_FRAMEBASED(part,params)\n",
    "        computeHPCP_GLOBAL(part)\n",
    "        \n",
    " \n",
    "        \n",
    "#Saving all results in a pickle file\n",
    "pickleProtocol=1#choosen for backward compatibility\n",
    "with open(os.path.join('data','HPCPFeaturesExtracted_ChordScaleDataset.pkl') , 'wb') as f:\n",
    "    pickle.dump(dataDictionary, f, pickleProtocol)\n",
    "\n",
    "#Let's clear data and re-read it\n",
    "print('HPCP (Chroma) Features extracted and saved in a file')                "
   ]
  },
  {
   "cell_type": "markdown",
   "metadata": {},
   "source": [
    "### METHOD 1 : TEMPLATE-BASED LIKELIHOOD ESTIMATION\n"
   ]
  },
  {
   "cell_type": "code",
   "execution_count": 8,
   "metadata": {},
   "outputs": [],
   "source": [
    "### FIRST, LET'S DEFINE A DICTIONARY THAT CONTAINS ALL THE PREDEFINED SCALE TEMPLATES\n",
    "\n",
    "ScaleTemplates = dict()\n",
    "    \n",
    "ScaleTemplates['major'] = {'scaleArray':[1,0,1,0,1,1,0,1,0,1,0,1]}\n",
    "ScaleTemplates['dorian'] = {'scaleArray':[1,0,1,1,0,1,0,1,0,1,1,0]}\n",
    "ScaleTemplates['phrygian'] = {'scaleArray':[1,1,0,1,0,1,0,1,1,0,1,0]}\n",
    "ScaleTemplates['lydian'] = {'scaleArray':[1,0,1,0,1,0,1,1,0,1,0,1]}\n",
    "ScaleTemplates['mixolydian'] = {'scaleArray':[1,0,1,0,1,1,0,1,0,1,1,0]}\n",
    "ScaleTemplates['minor'] = {'scaleArray':[1,0,1,1,0,1,0,1,1,0,1,0]}\n",
    "ScaleTemplates['locrian'] = {'scaleArray':[1,1,0,1,0,1,1,0,1,0,1,0]}\n",
    "ScaleTemplates['lydianb7'] = {'scaleArray':[1,0,1,0,1,0,1,1,0,1,1,0]}\n",
    "ScaleTemplates['altered'] = {'scaleArray':[1,1,0,1,1,0,1,0,1,0,1,0]}\n",
    "ScaleTemplates['mminor'] = {'scaleArray':[1,0,1,1,0,1,0,1,0,1,0,1]}\n",
    "ScaleTemplates['hminor'] = {'scaleArray':[1,0,1,1,0,1,0,1,1,0,0,1]}\n",
    "ScaleTemplates['hwdiminished'] = {'scaleArray':[1,1,0,1,1,0,1,1,0,1,1,0]}\n",
    "ScaleTemplates['wholetone'] = {'scaleArray':[1,0,1,0,1,0,1,0,1,0,1,0]}\n",
    "ScaleTemplates['chromatic'] = {'scaleArray':[1,1,1,1,1,1,1,1,1,1,1,1]}"
   ]
  },
  {
   "cell_type": "code",
   "execution_count": 11,
   "metadata": {},
   "outputs": [
    {
     "name": "stdout",
     "output_type": "stream",
     "text": [
      "Maximum Likeliest Scale of Phrase : minor    with likeliest : 0.105658486572\n"
     ]
    },
    {
     "data": {
      "image/png": "[encoded data removed]",
      "text/plain": [
       "<matplotlib.figure.Figure at 0x7ffa0d4b9048>"
      ]
     },
     "metadata": {},
     "output_type": "display_data"
    }
   ],
   "source": [
    "### NOW, LET'S LOAD THE FEATURE DATA WE OBTAINED IN THE PREVIOUS STEPmaxlikelihood2\n",
    "\n",
    "FEATUREDATA = os.path.join('data','HPCPFeaturesExtracted_ChordScaleDataset.pkl')\n",
    "with open(FEATUREDATA , 'rb') as f:\n",
    "    dataDictionary = pickle.load(f)\n",
    "    \n",
    "### CHOOSE THE SOUND\n",
    "\n",
    "SAMPLESOUND = 'toprak_minor'\n",
    "\n",
    "### CHOOSE THE AUDIO SEGMENT FOR ANALYSIS\n",
    "\n",
    "NUMSegment = 3\n",
    "\n",
    "### and THE CHORD-SCALE ESTIMATION METHOD; 1 - Multiplicative, 2 - Additive \n",
    "\n",
    "LikelihoodMethod = 2\n",
    "\n",
    "VisualizeChromaANDScaleLikelihoods(FEATUREDATA,SAMPLESOUND,NUMSegment,ScaleTemplates,LikelihoodMethod)"
   ]
  },
  {
   "cell_type": "markdown",
   "metadata": {},
   "source": [
    "### METHOD 2 : CLASSIFICATION USING SVMS (coming soon)"
   ]
  },
  {
   "cell_type": "code",
   "execution_count": null,
   "metadata": {},
   "outputs": [],
   "source": [
    "generateCSV('ExtractedFeatures_for12bins!.pkl',dataDir)        "
   ]
  },
  {
   "cell_type": "code",
   "execution_count": null,
   "metadata": {},
   "outputs": [],
   "source": []
  }
 ],
 "metadata": {
  "kernelspec": {
   "display_name": "Python 3",
   "language": "python",
   "name": "python3"
  },
  "language_info": {
   "codemirror_mode": {
    "name": "ipython",
    "version": 3
   },
   "file_extension": ".py",
   "mimetype": "text/x-python",
   "name": "python",
   "nbconvert_exporter": "python",
   "pygments_lexer": "ipython3",
   "version": "3.5.2"
  }
 },
 "nbformat": 4,
 "nbformat_minor": 2
}
